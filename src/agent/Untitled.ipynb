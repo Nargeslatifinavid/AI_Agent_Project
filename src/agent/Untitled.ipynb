{
 "cells": [
  {
   "cell_type": "code",
   "execution_count": 2,
   "id": "254a0fc9-9e69-4d06-afa4-1ab8323c42e7",
   "metadata": {},
   "outputs": [
    {
     "ename": "ImportError",
     "evalue": "cannot import name 'Graph' from 'langgraph.graph' (C:\\ProgramData\\Anaconda3\\envs\\ai_agent_env\\lib\\site-packages\\langgraph\\graph\\__init__.py)",
     "output_type": "error",
     "traceback": [
      "\u001b[1;31m---------------------------------------------------------------------------\u001b[0m",
      "\u001b[1;31mImportError\u001b[0m                               Traceback (most recent call last)",
      "Cell \u001b[1;32mIn[2], line 1\u001b[0m\n\u001b[1;32m----> 1\u001b[0m \u001b[38;5;28;01mfrom\u001b[39;00m\u001b[38;5;250m \u001b[39m\u001b[38;5;21;01mlanggraph\u001b[39;00m\u001b[38;5;21;01m.\u001b[39;00m\u001b[38;5;21;01mgraph\u001b[39;00m\u001b[38;5;250m \u001b[39m\u001b[38;5;28;01mimport\u001b[39;00m Graph, Node\n\u001b[0;32m      2\u001b[0m g \u001b[38;5;241m=\u001b[39m Graph()\n\u001b[0;32m      3\u001b[0m \u001b[38;5;28misinstance\u001b[39m(g, Graph)\n",
      "\u001b[1;31mImportError\u001b[0m: cannot import name 'Graph' from 'langgraph.graph' (C:\\ProgramData\\Anaconda3\\envs\\ai_agent_env\\lib\\site-packages\\langgraph\\graph\\__init__.py)"
     ]
    }
   ],
   "source": [
    "from langgraph.graph import Graph, Node\n",
    "g = Graph()\n",
    "isinstance(g, Graph)"
   ]
  },
  {
   "cell_type": "code",
   "execution_count": null,
   "id": "f1b71597-0491-46b6-ba42-038c7fdf5800",
   "metadata": {},
   "outputs": [],
   "source": []
  },
  {
   "cell_type": "code",
   "execution_count": null,
   "id": "77555b75-e124-40cf-b708-2d51d6156ec3",
   "metadata": {},
   "outputs": [],
   "source": []
  }
 ],
 "metadata": {
  "kernelspec": {
   "display_name": "Python 3 (ipykernel)",
   "language": "python",
   "name": "python3"
  },
  "language_info": {
   "codemirror_mode": {
    "name": "ipython",
    "version": 3
   },
   "file_extension": ".py",
   "mimetype": "text/x-python",
   "name": "python",
   "nbconvert_exporter": "python",
   "pygments_lexer": "ipython3",
   "version": "3.10.18"
  }
 },
 "nbformat": 4,
 "nbformat_minor": 5
}
